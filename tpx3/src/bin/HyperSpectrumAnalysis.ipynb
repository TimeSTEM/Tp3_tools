{
 "cells": [
  {
   "cell_type": "code",
   "execution_count": 1,
   "id": "08b1402e-bfa8-4995-b24b-3f617dc028d2",
   "metadata": {},
   "outputs": [],
   "source": [
    "%matplotlib qt\n",
    "import hyperspy.api as hs\n",
    "import numpy\n",
    "import matplotlib.pyplot as plt\n",
    "import csv\n",
    "plt.rcParams.update({'font.size': 20})\n",
    "from hyperspy.misc.eels.tools import get_edges_near_energy"
   ]
  },
  {
   "cell_type": "markdown",
   "id": "17ce5a33-df7c-401a-89c9-f0ab1ba2a119",
   "metadata": {},
   "source": [
    "# Non-sparse Hyperspectrum"
   ]
  },
  {
   "cell_type": "code",
   "execution_count": 14,
   "id": "partial-exploration",
   "metadata": {},
   "outputs": [],
   "source": [
    "#file = numpy.loadtxt(\"1_0_1024_spimComplete\", delimiter = ',', dtype=int)\n",
    "\n",
    "ss = 32\n",
    "how_many = 232\n",
    "roll = 0\n",
    "\n",
    "for slices in range(how_many):\n",
    "    with open(\"results/\"+str(how_many)+\"_\"+str(ss)+\"_\"+str(ss)+\"_SpimComplete\"+str(slices), \"r\") as f:\n",
    "        reader = csv.reader(f, delimiter=',')\n",
    "        for row in reader:\n",
    "            full_array = numpy.asarray(row, dtype=float)\n",
    "            full_array = numpy.reshape(full_array, (ss, ss, 1025))\n",
    "            full_array = numpy.roll(full_array, roll, axis=0)\n",
    "            s = hs.signals.Signal1D(full_array)\n",
    "            s.save(f\"results/slices/spim{slices}\", overwrite=True)"
   ]
  },
  {
   "cell_type": "code",
   "execution_count": 15,
   "id": "a5c8e618",
   "metadata": {},
   "outputs": [
    {
     "name": "stdout",
     "output_type": "stream",
     "text": [
      "[########################################] | 100% Completed |  0.1s\n"
     ]
    }
   ],
   "source": [
    "s = hs.load(\"results/slices/*\", stack=True)\n",
    "s.set_signal_type(\"EELS\")"
   ]
  },
  {
   "cell_type": "code",
   "execution_count": 17,
   "id": "8e7da7d3-5038-419a-9087-355c255eb779",
   "metadata": {},
   "outputs": [],
   "source": [
    "s.sum().plot()"
   ]
  },
  {
   "cell_type": "markdown",
   "id": "c49704ce",
   "metadata": {},
   "source": [
    "# Sparse Hyperspectrum"
   ]
  },
  {
   "cell_type": "code",
   "execution_count": 5,
   "id": "203eb27a",
   "metadata": {},
   "outputs": [],
   "source": [
    "#file = numpy.loadtxt(\"1_0_1024_spimComplete\", delimiter = ',', dtype=int)\n",
    "\n",
    "ss = 32\n",
    "how_many = 232\n",
    "roll = 0\n",
    "\n",
    "\n",
    "\n",
    "for slices in range(how_many):\n",
    "    f1 = open(\"results/232/\"+str(how_many)+\"_\"+str(ss)+\"_\"+str(ss)+\"_SparseSpimComplete\"+str(slices), \"r\")\n",
    "    r1 = csv.reader(f1, delimiter=',')\n",
    "    \n",
    "    f2 = open(\"results/232/\"+str(how_many)+\"_\"+str(ss)+\"_\"+str(ss)+\"_SparseSpimComplete_Hits\"+str(slices), \"r\")\n",
    "    r2 = csv.reader(f2, delimiter=',')\n",
    "    \n",
    "    for i in r1:\n",
    "        for h in r2:\n",
    "            spec = numpy.zeros(ss*ss*1025)\n",
    "            i = numpy.asarray(i, dtype=int)\n",
    "            h = numpy.asarray(h, dtype=int)\n",
    "            spec[i] = h\n",
    "            spec = numpy.reshape(spec, (ss, ss, 1025))\n",
    "            s = hs.signals.Signal1D(spec)\n",
    "            s.save(f\"results/slices/spim{slices}\", overwrite=True)"
   ]
  },
  {
   "cell_type": "code",
   "execution_count": 6,
   "id": "5b068cb6",
   "metadata": {},
   "outputs": [
    {
     "name": "stdout",
     "output_type": "stream",
     "text": [
      "[########################################] | 100% Completed |  0.1s\n"
     ]
    }
   ],
   "source": [
    "s = hs.load(\"results/slices/*\", stack=True)\n",
    "s.set_signal_type(\"EELS\")"
   ]
  },
  {
   "cell_type": "code",
   "execution_count": 7,
   "id": "79ad239b",
   "metadata": {},
   "outputs": [
    {
     "data": {
      "application/vnd.jupyter.widget-view+json": {
       "model_id": "8fbea053f5844f57ad998c5c5acb9d7f",
       "version_major": 2,
       "version_minor": 0
      },
      "text/plain": [
       "VBox(children=(HBox(children=(Label(value='Unnamed 0th axis', layout=Layout(width='15%')), IntSlider(value=0, …"
      ]
     },
     "metadata": {},
     "output_type": "display_data"
    }
   ],
   "source": [
    "s.plot()"
   ]
  },
  {
   "cell_type": "markdown",
   "id": "62ca8f6c",
   "metadata": {},
   "source": [
    "# Sparse Hyperspectrum v2"
   ]
  },
  {
   "cell_type": "markdown",
   "id": "ad4526c8",
   "metadata": {},
   "source": [
    "## Summed spectral image (no temporal resolution)"
   ]
  },
  {
   "cell_type": "code",
   "execution_count": 2,
   "id": "4a7cc6b2",
   "metadata": {},
   "outputs": [
    {
     "name": "stdout",
     "output_type": "stream",
     "text": [
      "Total bytes read (MB) is 400.0.\n",
      "Total bytes read (MB) is 800.0.\n",
      "Total bytes read (MB) is 1200.0.\n",
      "Total bytes read (MB) is 1600.0.\n",
      "Total bytes read (MB) is 2000.0.\n",
      "Total bytes read (MB) is 2400.0.\n",
      "Total bytes read (MB) is 2800.0.\n",
      "Total bytes read (MB) is 3200.0.\n",
      "Total bytes read (MB) is 3600.0.\n",
      "Total bytes read (MB) is 4000.0.\n",
      "Total bytes read (MB) is 4400.0.\n",
      "Total bytes read (MB) is 4800.0.\n",
      "Total bytes read (MB) is 5200.0.\n",
      "Total bytes read (MB) is 5600.0.\n",
      "Total bytes read (MB) is 6000.0.\n",
      "Total bytes read (MB) is 6400.0.\n",
      "Total bytes read (MB) is 6800.0.\n",
      "Total bytes read (MB) is 7200.0.\n",
      "Total bytes read (MB) is 7600.0.\n",
      "Total bytes read (MB) is 8000.0.\n",
      "Total bytes read (MB) is 8400.0.\n",
      "Total bytes read (MB) is 8800.0.\n",
      "Total bytes read (MB) is 9200.0.\n",
      "Total bytes read (MB) is 9600.0.\n",
      "Total bytes read (MB) is 10000.0.\n",
      "Total bytes read (MB) is 10400.0.\n",
      "Total bytes read (MB) is 10800.0.\n",
      "Total bytes read (MB) is 11200.0.\n",
      "Total bytes read (MB) is 11600.0.\n",
      "Total bytes read (MB) is 12000.0.\n",
      "Total bytes read (MB) is 12400.0.\n",
      "Total bytes read (MB) is 12800.0.\n",
      "Total bytes read (MB) is 13200.0.\n",
      "Total bytes read (MB) is 13600.0.\n",
      "Total bytes read (MB) is 14000.0.\n",
      "Total bytes read (MB) is 14400.0.\n",
      "Total bytes read (MB) is 14800.0.\n",
      "Total bytes read (MB) is 15200.0.\n",
      "Total bytes read (MB) is 15600.0.\n",
      "Total bytes read (MB) is 16000.0.\n",
      "Total bytes read (MB) is 16400.0.\n",
      "Total bytes read (MB) is 16800.0.\n",
      "Total bytes read (MB) is 17200.0.\n",
      "Total bytes read (MB) is 17600.0.\n",
      "Total bytes read (MB) is 18000.0.\n",
      "Total bytes read (MB) is 18400.0.\n",
      "Total bytes read (MB) is 18800.0.\n",
      "Total bytes read (MB) is 19200.0.\n",
      "Total bytes read (MB) is 19600.0.\n",
      "Total bytes read (MB) is 20000.0.\n",
      "Total bytes read (MB) is 20400.0.\n",
      "Total bytes read (MB) is 20800.0.\n",
      "Total bytes read (MB) is 21200.0.\n",
      "Total bytes read (MB) is 21600.0.\n",
      "Total bytes read (MB) is 22000.0.\n",
      "Total bytes read (MB) is 22400.0.\n",
      "Total bytes read (MB) is 22800.0.\n",
      "Total bytes read (MB) is 23200.0.\n",
      "Total bytes read (MB) is 23600.0.\n",
      "Total bytes read (MB) is 24000.0.\n",
      "Total bytes read (MB) is 24400.0.\n",
      "Total bytes read (MB) is 24800.0.\n",
      "Total bytes read (MB) is 25200.0.\n"
     ]
    }
   ],
   "source": [
    "#Choose your parameters\n",
    "ss = 46\n",
    "channels = 1041\n",
    "\n",
    "#Do not touch\n",
    "size = 100000000\n",
    "n = 0;\n",
    "total_read = 0\n",
    "si = numpy.zeros(ss * ss * channels, dtype='int32')\n",
    "\n",
    "while True:\n",
    "    file = numpy.fromfile(\"si_complete.txt\", count = size, offset = 4 * size * n, dtype='uint32')\n",
    "    total_read = total_read + 4 * size\n",
    "    print(f'Total bytes read (MB) is {total_read/1e6}.')\n",
    "    if (file.shape[0] == 0): break\n",
    "    unique, counts = numpy.unique(file, return_counts=True)\n",
    "    si[unique] += counts\n",
    "    n+=1\n",
    "    \n",
    "si = numpy.reshape(si, (ss, ss, channels))\n",
    "s = hs.signals.Signal1D(si)\n",
    "s.plot()"
   ]
  },
  {
   "cell_type": "markdown",
   "id": "1736b4ea",
   "metadata": {},
   "source": [
    "## Hyperspectral image with temporal resolution"
   ]
  },
  {
   "cell_type": "code",
   "execution_count": 3,
   "id": "0d2fd54d",
   "metadata": {},
   "outputs": [
    {
     "name": "stdout",
     "output_type": "stream",
     "text": [
      "Maximum number of frames is 16973.\n"
     ]
    }
   ],
   "source": [
    "#Do not touch. This will tell you how many frames you have\n",
    "n = 0\n",
    "size = 100000000\n",
    "max_frames = 0\n",
    "\n",
    "while True:\n",
    "    file2 = numpy.fromfile(\"si_complete_indices.txt\", count = size, offset = 2 * size * n, dtype='uint16')\n",
    "    if (file2.shape[0] == 0): break\n",
    "    temp = int(numpy.max(file2)) + 1\n",
    "    if temp > max_frames: max_frames = temp\n",
    "    n+=1\n",
    "    \n",
    "print(f\"Maximum number of frames is {max_frames}.\")"
   ]
  },
  {
   "cell_type": "code",
   "execution_count": 4,
   "id": "a11b8c23",
   "metadata": {},
   "outputs": [
    {
     "name": "stdout",
     "output_type": "stream",
     "text": [
      "Total number of frames will be 1698.\n",
      "Total bytes read (MB) is 400.0.\n",
      "Total bytes read (MB) is 800.0.\n",
      "Total bytes read (MB) is 1200.0.\n",
      "Total bytes read (MB) is 1600.0.\n",
      "Total bytes read (MB) is 2000.0.\n",
      "Total bytes read (MB) is 2400.0.\n",
      "Total bytes read (MB) is 2800.0.\n",
      "Total bytes read (MB) is 3200.0.\n",
      "Total bytes read (MB) is 3600.0.\n",
      "Total bytes read (MB) is 4000.0.\n",
      "Total bytes read (MB) is 4400.0.\n",
      "Total bytes read (MB) is 4800.0.\n",
      "Total bytes read (MB) is 5200.0.\n",
      "Total bytes read (MB) is 5600.0.\n",
      "Total bytes read (MB) is 6000.0.\n",
      "Total bytes read (MB) is 6400.0.\n",
      "Total bytes read (MB) is 6800.0.\n",
      "Total bytes read (MB) is 7200.0.\n",
      "Total bytes read (MB) is 7600.0.\n",
      "Total bytes read (MB) is 8000.0.\n",
      "Total bytes read (MB) is 8400.0.\n",
      "Total bytes read (MB) is 8800.0.\n",
      "Total bytes read (MB) is 9200.0.\n",
      "Total bytes read (MB) is 9600.0.\n",
      "Total bytes read (MB) is 10000.0.\n",
      "Total bytes read (MB) is 10400.0.\n",
      "Total bytes read (MB) is 10800.0.\n",
      "Total bytes read (MB) is 11200.0.\n",
      "Total bytes read (MB) is 11600.0.\n",
      "Total bytes read (MB) is 12000.0.\n",
      "Total bytes read (MB) is 12400.0.\n",
      "Total bytes read (MB) is 12800.0.\n",
      "Total bytes read (MB) is 13200.0.\n",
      "Total bytes read (MB) is 13600.0.\n",
      "Total bytes read (MB) is 14000.0.\n",
      "Total bytes read (MB) is 14400.0.\n",
      "Total bytes read (MB) is 14800.0.\n",
      "Total bytes read (MB) is 15200.0.\n",
      "Total bytes read (MB) is 15600.0.\n",
      "Total bytes read (MB) is 16000.0.\n",
      "Total bytes read (MB) is 16400.0.\n",
      "Total bytes read (MB) is 16800.0.\n",
      "Total bytes read (MB) is 17200.0.\n",
      "Total bytes read (MB) is 17600.0.\n",
      "Total bytes read (MB) is 18000.0.\n",
      "Total bytes read (MB) is 18400.0.\n",
      "Total bytes read (MB) is 18800.0.\n",
      "Total bytes read (MB) is 19200.0.\n",
      "Total bytes read (MB) is 19600.0.\n",
      "Total bytes read (MB) is 20000.0.\n",
      "Total bytes read (MB) is 20400.0.\n",
      "Total bytes read (MB) is 20800.0.\n",
      "Total bytes read (MB) is 21200.0.\n",
      "Total bytes read (MB) is 21600.0.\n",
      "Total bytes read (MB) is 22000.0.\n",
      "Total bytes read (MB) is 22400.0.\n",
      "Total bytes read (MB) is 22800.0.\n",
      "Total bytes read (MB) is 23200.0.\n",
      "Total bytes read (MB) is 23600.0.\n",
      "Total bytes read (MB) is 24000.0.\n",
      "Total bytes read (MB) is 24400.0.\n",
      "Total bytes read (MB) is 24800.0.\n"
     ]
    },
    {
     "data": {
      "text/plain": [
       "<Signal1D, title: , dimensions: (46, 46, 1698|1041)>"
      ]
     },
     "execution_count": 4,
     "metadata": {},
     "output_type": "execute_result"
    }
   ],
   "source": [
    "#Choose the frame bin and the scan parameters\n",
    "frame_bin = 10\n",
    "ss = 46\n",
    "channels = 1041\n",
    "\n",
    "#Do not touch\n",
    "n = 0\n",
    "total_read = 0\n",
    "frames = int(max_frames/frame_bin+1)\n",
    "print(f'Total number of frames will be {frames}.')\n",
    "\n",
    "si = numpy.zeros(ss * ss * frames * channels, dtype='int16')\n",
    "\n",
    "while True:\n",
    "    file = numpy.fromfile(\"si_complete.txt\", count = size, offset = 4 * size * n, dtype='uint32')\n",
    "    file2 = numpy.fromfile(\"si_complete_indices.txt\", count = size, offset = 2 * size * n, dtype='uint16')\n",
    "    if (file2.shape[0] == 0): break\n",
    "    total_read = total_read + 4 * size\n",
    "    print(f'Total bytes read (MB) is {total_read/1e6}.')\n",
    "    file2 = numpy.divide(file2, frame_bin)\n",
    "    net_index = numpy.add(file, file2.astype('uint64') * ss * ss * channels, dtype='uint64')\n",
    "    unique, counts = numpy.unique(net_index, return_counts=True)\n",
    "    si[unique] += counts\n",
    "    n+=1\n",
    "\n",
    "si = numpy.reshape(si, (frames, ss, ss, channels))\n",
    "s = hs.signals.Signal1D(si)\n",
    "s"
   ]
  },
  {
   "cell_type": "code",
   "execution_count": 5,
   "id": "42434815",
   "metadata": {},
   "outputs": [],
   "source": [
    "s.inav[:, :, :].sum(axis=2).plot()\n",
    "s.inav[:, :, 0].plot()\n",
    "s.inav[:, :, 1].plot()"
   ]
  }
 ],
 "metadata": {
  "kernelspec": {
   "display_name": "Python 3",
   "language": "python",
   "name": "python3"
  },
  "language_info": {
   "codemirror_mode": {
    "name": "ipython",
    "version": 3
   },
   "file_extension": ".py",
   "mimetype": "text/x-python",
   "name": "python",
   "nbconvert_exporter": "python",
   "pygments_lexer": "ipython3",
   "version": "3.8.12"
  },
  "toc-autonumbering": false,
  "toc-showcode": false,
  "toc-showmarkdowntxt": false,
  "toc-showtags": false,
  "widgets": {
   "application/vnd.jupyter.widget-state+json": {
    "state": {},
    "version_major": 2,
    "version_minor": 0
   }
  }
 },
 "nbformat": 4,
 "nbformat_minor": 5
}
