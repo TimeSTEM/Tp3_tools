{
 "cells": [
  {
   "cell_type": "code",
   "execution_count": 1,
   "id": "08b1402e-bfa8-4995-b24b-3f617dc028d2",
   "metadata": {},
   "outputs": [],
   "source": [
    "%matplotlib qt\n",
    "import hyperspy.api as hs\n",
    "import numpy\n",
    "import matplotlib.pyplot as plt\n",
    "import csv\n",
    "plt.rcParams.update({'font.size': 20})\n",
    "from hyperspy.misc.eels.tools import get_edges_near_energy"
   ]
  },
  {
   "cell_type": "markdown",
   "id": "17ce5a33-df7c-401a-89c9-f0ab1ba2a119",
   "metadata": {},
   "source": [
    "# Non-sparse Hyperspectrum"
   ]
  },
  {
   "cell_type": "code",
   "execution_count": 14,
   "id": "partial-exploration",
   "metadata": {},
   "outputs": [],
   "source": [
    "#file = numpy.loadtxt(\"1_0_1024_spimComplete\", delimiter = ',', dtype=int)\n",
    "\n",
    "ss = 32\n",
    "how_many = 232\n",
    "roll = 0\n",
    "\n",
    "for slices in range(how_many):\n",
    "    with open(\"results/\"+str(how_many)+\"_\"+str(ss)+\"_\"+str(ss)+\"_SpimComplete\"+str(slices), \"r\") as f:\n",
    "        reader = csv.reader(f, delimiter=',')\n",
    "        for row in reader:\n",
    "            full_array = numpy.asarray(row, dtype=float)\n",
    "            full_array = numpy.reshape(full_array, (ss, ss, 1025))\n",
    "            full_array = numpy.roll(full_array, roll, axis=0)\n",
    "            s = hs.signals.Signal1D(full_array)\n",
    "            s.save(f\"results/slices/spim{slices}\", overwrite=True)"
   ]
  },
  {
   "cell_type": "code",
   "execution_count": 15,
   "id": "a5c8e618",
   "metadata": {},
   "outputs": [
    {
     "name": "stdout",
     "output_type": "stream",
     "text": [
      "[########################################] | 100% Completed |  0.1s\n"
     ]
    }
   ],
   "source": [
    "s = hs.load(\"results/slices/*\", stack=True)\n",
    "s.set_signal_type(\"EELS\")"
   ]
  },
  {
   "cell_type": "code",
   "execution_count": 17,
   "id": "8e7da7d3-5038-419a-9087-355c255eb779",
   "metadata": {},
   "outputs": [],
   "source": [
    "s.sum().plot()"
   ]
  },
  {
   "cell_type": "markdown",
   "id": "c49704ce",
   "metadata": {},
   "source": [
    "# Sparse Hyperspectrum"
   ]
  },
  {
   "cell_type": "code",
   "execution_count": 5,
   "id": "203eb27a",
   "metadata": {},
   "outputs": [],
   "source": [
    "#file = numpy.loadtxt(\"1_0_1024_spimComplete\", delimiter = ',', dtype=int)\n",
    "\n",
    "ss = 32\n",
    "how_many = 232\n",
    "roll = 0\n",
    "\n",
    "\n",
    "\n",
    "for slices in range(how_many):\n",
    "    f1 = open(\"results/232/\"+str(how_many)+\"_\"+str(ss)+\"_\"+str(ss)+\"_SparseSpimComplete\"+str(slices), \"r\")\n",
    "    r1 = csv.reader(f1, delimiter=',')\n",
    "    \n",
    "    f2 = open(\"results/232/\"+str(how_many)+\"_\"+str(ss)+\"_\"+str(ss)+\"_SparseSpimComplete_Hits\"+str(slices), \"r\")\n",
    "    r2 = csv.reader(f2, delimiter=',')\n",
    "    \n",
    "    for i in r1:\n",
    "        for h in r2:\n",
    "            spec = numpy.zeros(ss*ss*1025)\n",
    "            i = numpy.asarray(i, dtype=int)\n",
    "            h = numpy.asarray(h, dtype=int)\n",
    "            spec[i] = h\n",
    "            spec = numpy.reshape(spec, (ss, ss, 1025))\n",
    "            s = hs.signals.Signal1D(spec)\n",
    "            s.save(f\"results/slices/spim{slices}\", overwrite=True)"
   ]
  },
  {
   "cell_type": "code",
   "execution_count": 6,
   "id": "5b068cb6",
   "metadata": {},
   "outputs": [
    {
     "name": "stdout",
     "output_type": "stream",
     "text": [
      "[########################################] | 100% Completed |  0.1s\n"
     ]
    }
   ],
   "source": [
    "s = hs.load(\"results/slices/*\", stack=True)\n",
    "s.set_signal_type(\"EELS\")"
   ]
  },
  {
   "cell_type": "code",
   "execution_count": 7,
   "id": "79ad239b",
   "metadata": {},
   "outputs": [
    {
     "data": {
      "application/vnd.jupyter.widget-view+json": {
       "model_id": "8fbea053f5844f57ad998c5c5acb9d7f",
       "version_major": 2,
       "version_minor": 0
      },
      "text/plain": [
       "VBox(children=(HBox(children=(Label(value='Unnamed 0th axis', layout=Layout(width='15%')), IntSlider(value=0, …"
      ]
     },
     "metadata": {},
     "output_type": "display_data"
    }
   ],
   "source": [
    "s.plot()"
   ]
  },
  {
   "cell_type": "markdown",
   "id": "62ca8f6c",
   "metadata": {},
   "source": [
    "# Sparse Hyperspectrum v2"
   ]
  },
  {
   "cell_type": "code",
   "execution_count": 137,
   "id": "d82bbcfe",
   "metadata": {},
   "outputs": [
    {
     "name": "stdout",
     "output_type": "stream",
     "text": [
      "Number of frames after binning is 22.\n"
     ]
    }
   ],
   "source": [
    "file = numpy.fromfile(\"si_complete.txt\", dtype='uint64')\n",
    "\n",
    "ss = 512\n",
    "channels = 1041\n",
    "desired_frames = 50\n",
    "\n",
    "file = numpy.mod(file, (ss*ss*channels*desired_frames))\n",
    "unique, counts = numpy.unique(file, return_counts=True)\n",
    "frames = int(numpy.max(unique / (ss * ss * channels))) + 1\n",
    "\n",
    "print(f'Number of frames after binning is {frames}.')"
   ]
  },
  {
   "cell_type": "code",
   "execution_count": 138,
   "id": "a8197280",
   "metadata": {},
   "outputs": [],
   "source": [
    "si = numpy.zeros(ss * ss * frames * channels, dtype='int8')\n",
    "si[unique] += counts\n",
    "si = numpy.reshape(si, (frames, ss, ss, channels))\n",
    "#si = numpy.roll(si, 100, axis=1)"
   ]
  },
  {
   "cell_type": "code",
   "execution_count": 139,
   "id": "1f21aba4",
   "metadata": {},
   "outputs": [
    {
     "data": {
      "text/plain": [
       "<Signal1D, title: , dimensions: (512, 512, 22|1041)>"
      ]
     },
     "execution_count": 139,
     "metadata": {},
     "output_type": "execute_result"
    }
   ],
   "source": [
    "s = hs.signals.Signal1D(si)\n",
    "s.sum(axis=2).plot()\n",
    "s.inav[:, :, 0].plot()\n",
    "s"
   ]
  },
  {
   "cell_type": "code",
   "execution_count": null,
   "id": "a05989f8",
   "metadata": {},
   "outputs": [],
   "source": []
  }
 ],
 "metadata": {
  "kernelspec": {
   "display_name": "Python 3",
   "language": "python",
   "name": "python3"
  },
  "language_info": {
   "codemirror_mode": {
    "name": "ipython",
    "version": 3
   },
   "file_extension": ".py",
   "mimetype": "text/x-python",
   "name": "python",
   "nbconvert_exporter": "python",
   "pygments_lexer": "ipython3",
   "version": "3.8.12"
  },
  "toc-autonumbering": false,
  "toc-showcode": false,
  "toc-showmarkdowntxt": false,
  "toc-showtags": false,
  "widgets": {
   "application/vnd.jupyter.widget-state+json": {
    "state": {},
    "version_major": 2,
    "version_minor": 0
   }
  }
 },
 "nbformat": 4,
 "nbformat_minor": 5
}
