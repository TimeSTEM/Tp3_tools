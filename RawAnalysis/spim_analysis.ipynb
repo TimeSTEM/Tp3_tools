{
 "cells": [
  {
   "cell_type": "code",
   "execution_count": 1,
   "id": "decent-capability",
   "metadata": {},
   "outputs": [
    {
     "name": "stderr",
     "output_type": "stream",
     "text": [
      "C:\\Users\\AUAD\\Miniconda3\\envs\\hyperspy\\lib\\site-packages\\pyUSID\\viz\\__init__.py:16: FutureWarning: Please use sidpy.viz.plot_utils instead of pyUSID.viz.plot_utils. pyUSID.plot_utils will be removed in a future release of pyUSID\n",
      "  warn('Please use sidpy.viz.plot_utils instead of pyUSID.viz.plot_utils. '\n"
     ]
    }
   ],
   "source": [
    "%matplotlib qt\n",
    "\n",
    "import numpy as np\n",
    "import matplotlib.pyplot as plt\n",
    "import hyperspy.api as hs\n",
    "from scipy import stats\n",
    "\n",
    "import matplotlib as mpl\n",
    "mpl.rc('image', cmap='viridis')\n",
    "\n",
    "plt.rcParams['image.cmap'] = 'viridis'"
   ]
  },
  {
   "cell_type": "code",
   "execution_count": 180,
   "id": "universal-hampton",
   "metadata": {},
   "outputs": [],
   "source": [
    "time_array = list()\n",
    "fov = 4000\n",
    "spim = 128\n",
    "\n",
    "slice_names = ['Slice12800.txt', 'Slice25600.txt', 'Slice38400.txt']\n",
    "\n",
    "for slice_name in slice_names:\n",
    "    file = 'C:\\\\Users\\\\AUAD\\\\Documents\\\\Tp3_tools\\\\rusty_tcp\\\\src\\\\' + slice_name\n",
    "    binary = np.fromfile(file, dtype='uint8')\n",
    "    dt = np.dtype(np.uint32).newbyteorder('>')\n",
    "    byte_file = np.frombuffer(binary, dtype=dt)\n",
    "    rf = np.reshape(byte_file, (spim, spim, 1025))\n",
    "    a = hs.signals.Signal1D(rf)\n",
    "    a.axes_manager[2].scale = 0.08\n",
    "    a.axes_manager[2].units = 'eV'\n",
    "    a.axes_manager[2].name = 'Energy'\n",
    "    \n",
    "    a.axes_manager[1].scale = fov/spim\n",
    "    a.axes_manager[1].units = 'nm'\n",
    "    a.axes_manager[1].name = 'X'\n",
    "    \n",
    "    a.axes_manager[0].scale = fov/spim\n",
    "    a.axes_manager[0].units = 'nm'\n",
    "    a.axes_manager[0].name = 'Y'\n",
    "    time_array.append(a)\n",
    "time_array[0].plot()"
   ]
  },
  {
   "cell_type": "code",
   "execution_count": 179,
   "id": "inappropriate-acquisition",
   "metadata": {},
   "outputs": [
    {
     "data": {
      "text/plain": [
       "<AxesSubplot:xlabel='Energy (eV)'>"
      ]
     },
     "execution_count": 179,
     "metadata": {},
     "output_type": "execute_result"
    }
   ],
   "source": [
    "x = 0\n",
    "y = 0\n",
    "\n",
    "spectra = list()\n",
    "\n",
    "for i in range(len(time_array)):\n",
    "    spec = time_array[i].inav[x, y]\n",
    "    spec.data = spec.data / spec.data.max()\n",
    "    spectra.append(spec)\n",
    "\n",
    "hs.plot.plot_spectra(spectra, style='cascade')"
   ]
  },
  {
   "cell_type": "code",
   "execution_count": null,
   "id": "hindu-carbon",
   "metadata": {},
   "outputs": [],
   "source": []
  }
 ],
 "metadata": {
  "kernelspec": {
   "display_name": "Python 3",
   "language": "python",
   "name": "python3"
  },
  "language_info": {
   "codemirror_mode": {
    "name": "ipython",
    "version": 3
   },
   "file_extension": ".py",
   "mimetype": "text/x-python",
   "name": "python",
   "nbconvert_exporter": "python",
   "pygments_lexer": "ipython3",
   "version": "3.8.8"
  }
 },
 "nbformat": 4,
 "nbformat_minor": 5
}
